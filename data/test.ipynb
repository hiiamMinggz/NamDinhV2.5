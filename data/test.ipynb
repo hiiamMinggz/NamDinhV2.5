{
 "cells": [
  {
   "cell_type": "code",
   "execution_count": 1,
   "metadata": {},
   "outputs": [],
   "source": [
    "import pandas as pd\n",
    "import csv"
   ]
  },
  {
   "cell_type": "code",
   "execution_count": 3,
   "metadata": {},
   "outputs": [
    {
     "data": {
      "text/plain": [
       "1803"
      ]
     },
     "execution_count": 3,
     "metadata": {},
     "output_type": "execute_result"
    }
   ],
   "source": [
    "lines = [line for line in open('procedure.txt','r', encoding='utf-8')]\n",
    "len(lines)"
   ]
  },
  {
   "cell_type": "code",
   "execution_count": 4,
   "metadata": {},
   "outputs": [],
   "source": [
    "lines = sorted(lines, key=len)"
   ]
  },
  {
   "cell_type": "code",
   "execution_count": 5,
   "metadata": {},
   "outputs": [
    {
     "data": {
      "text/plain": [
       "['mua hóa đơn lẻ\\n',\n",
       " 'phục hồi danh dự\\n',\n",
       " 'giao khu vực biển\\n',\n",
       " 'mua quyển hóa đơn\\n',\n",
       " 'xóa đăng ký tàu cá\\n']"
      ]
     },
     "execution_count": 5,
     "metadata": {},
     "output_type": "execute_result"
    }
   ],
   "source": [
    "lines[:5]"
   ]
  },
  {
   "cell_type": "code",
   "execution_count": 24,
   "metadata": {},
   "outputs": [],
   "source": [
    "data = [['',procedure.strip(),'Tên thủ tục'] for procedure in lines]"
   ]
  },
  {
   "cell_type": "code",
   "execution_count": 25,
   "metadata": {},
   "outputs": [
    {
     "data": {
      "text/plain": [
       "[['', 'mua hóa đơn lẻ', 'Tên thủ tục'],\n",
       " ['', 'phục hồi danh dự', 'Tên thủ tục'],\n",
       " ['', 'giao khu vực biển', 'Tên thủ tục'],\n",
       " ['', 'mua quyển hóa đơn', 'Tên thủ tục'],\n",
       " ['', 'xóa đăng ký tàu cá', 'Tên thủ tục']]"
      ]
     },
     "execution_count": 25,
     "metadata": {},
     "output_type": "execute_result"
    }
   ],
   "source": [
    "data[:5]"
   ]
  },
  {
   "cell_type": "code",
   "execution_count": 26,
   "metadata": {},
   "outputs": [
    {
     "data": {
      "text/plain": [
       "['', 'mua hóa đơn lẻ', 'Tên thủ tục']"
      ]
     },
     "execution_count": 26,
     "metadata": {},
     "output_type": "execute_result"
    }
   ],
   "source": [
    "data[0]"
   ]
  },
  {
   "cell_type": "code",
   "execution_count": 27,
   "metadata": {},
   "outputs": [],
   "source": [
    "header = ['Question','Procedure','Answer']\n",
    "blank_name = ['','','Tên thủ tục']\n",
    "blank_TTC = ['','','Thông tin chung']\n",
    "blank_TTTH = ['','','Trình tự thực hiện']\n",
    "blank_HS = ['','','Hồ sơ']\n",
    "blank_YC = ['','','Yêu cầu điều kiện']\n"
   ]
  },
  {
   "cell_type": "code",
   "execution_count": 28,
   "metadata": {},
   "outputs": [],
   "source": [
    "f = open('test_data.csv', 'w', encoding='UTF8', newline='')\n",
    "writer = csv.writer(f)\n",
    "writer.writerow(header)\n",
    "for i in range(len(lines)):\n",
    "    writer.writerow(data[i])\n",
    "    writer.writerow(blank_name)\n",
    "    \n",
    "    writer.writerow(blank_TTC)\n",
    "    writer.writerow(blank_TTC)\n",
    "    \n",
    "    writer.writerow(blank_TTTH)\n",
    "    writer.writerow(blank_TTTH)\n",
    "    \n",
    "    writer.writerow(blank_HS)\n",
    "    writer.writerow(blank_HS)\n",
    "    \n",
    "    writer.writerow(blank_YC)\n",
    "    writer.writerow(blank_YC)\n",
    "    \n",
    "    \n",
    "    \n",
    "f.close()\n"
   ]
  }
 ],
 "metadata": {
  "kernelspec": {
   "display_name": "Python 3.7.9 ('venv': venv)",
   "language": "python",
   "name": "python3"
  },
  "language_info": {
   "codemirror_mode": {
    "name": "ipython",
    "version": 3
   },
   "file_extension": ".py",
   "mimetype": "text/x-python",
   "name": "python",
   "nbconvert_exporter": "python",
   "pygments_lexer": "ipython3",
   "version": "3.7.9"
  },
  "orig_nbformat": 4,
  "vscode": {
   "interpreter": {
    "hash": "f1780eb28507af243e143f2a4ba16ece14cae2c80c100a43bf8bc3113081e391"
   }
  }
 },
 "nbformat": 4,
 "nbformat_minor": 2
}
